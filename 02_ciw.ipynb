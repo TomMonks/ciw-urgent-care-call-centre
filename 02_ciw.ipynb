{
 "cells": [
  {
   "cell_type": "markdown",
   "id": "quiet-cooling",
   "metadata": {},
   "source": [
    "# CiW: County Hospital\n",
    "\n",
    "`ciw` (pronouced 'queue') is a Python library for the simulation of **open queueing networks**. The core features of this library include the capability to simulate networks of queues.  \n",
    "\n",
    "> This notebook demonstrates the use of `ciw` in the spirit of demonstrating a model code can be released with a paper. The full scope of what is possible in `ciw` is out of scope.  Detailed documentation can be found here: https://ciw.readthedocs.io \n",
    "\n",
    "## Imports"
   ]
  },
  {
   "cell_type": "code",
   "execution_count": 1,
   "id": "fuzzy-stamp",
   "metadata": {},
   "outputs": [],
   "source": [
    "# pip install the package if using Google Colab\n",
    "#!pip install Ciw==2.1.3"
   ]
  },
  {
   "cell_type": "code",
   "execution_count": 2,
   "id": "genuine-singing",
   "metadata": {},
   "outputs": [
    {
     "data": {
      "text/plain": [
       "'2.3.7'"
      ]
     },
     "execution_count": 2,
     "metadata": {},
     "output_type": "execute_result"
    }
   ],
   "source": [
    "import ciw\n",
    "ciw.__version__"
   ]
  },
  {
   "cell_type": "code",
   "execution_count": 3,
   "id": "pointed-mention",
   "metadata": {},
   "outputs": [],
   "source": [
    "import numpy as np\n",
    "import pandas as pd\n",
    "import matplotlib.pyplot as plt"
   ]
  },
  {
   "cell_type": "markdown",
   "id": "confidential-county",
   "metadata": {},
   "source": [
    "---\n",
    "\n",
    "## County Hospital Example\n",
    "\n",
    "This example is based on *the county hospital M/M/s* exercise from Hillier and Lieberman (2005) chpt 17, pg 766.\n",
    "\n",
    "The emergency department at a **county hospital** is simplified to a M/M/s queue.  Patients arrive at random and queue see be asessed and treated by a doctor.  This code explores the trade-off in waiting time and doctor utilisation.\n",
    "\n",
    "> *Hillier and Lieberman (2005). Introduction to Operations Research. 8th ed. McGrall-Hill International*"
   ]
  },
  {
   "cell_type": "markdown",
   "id": "settled-giving",
   "metadata": {},
   "source": [
    "### Parameters"
   ]
  },
  {
   "cell_type": "code",
   "execution_count": 4,
   "id": "divine-wednesday",
   "metadata": {},
   "outputs": [],
   "source": [
    "# mean time between arrivals in hours\n",
    "DEFAULT_MEAN_IAT = 0.50\n",
    "\n",
    "# mean service duration in hours.\n",
    "DEFAULT_MEAN_SERVICE = 0.33\n",
    "\n",
    "# number of doctors\n",
    "DEFAULT_N_DOCTORS = 1"
   ]
  },
  {
   "cell_type": "markdown",
   "id": "grand-translator",
   "metadata": {},
   "source": [
    "### Simulation config"
   ]
  },
  {
   "cell_type": "code",
   "execution_count": 5,
   "id": "nuclear-enemy",
   "metadata": {},
   "outputs": [],
   "source": [
    "# results collection period in hours\n",
    "DEFAULT_RC_PERIOD = 24 * 5\n",
    "\n",
    "# warmup period to exclude in hours.\n",
    "WARM_UP_PERIOD = 24\n",
    "\n",
    "# number of multiple replications\n",
    "DEFAULT_N_REPS = 50"
   ]
  },
  {
   "cell_type": "markdown",
   "id": "hindu-mountain",
   "metadata": {},
   "source": [
    "### Model parameter class"
   ]
  },
  {
   "cell_type": "code",
   "execution_count": 6,
   "id": "abandoned-immunology",
   "metadata": {},
   "outputs": [],
   "source": [
    "class Scenario:\n",
    "    '''\n",
    "    Container class for simulation parameters\n",
    "    '''\n",
    "    def __init__(self):\n",
    "        '''\n",
    "        Initialise the container\n",
    "        '''\n",
    "        self.mean_iat = DEFAULT_MEAN_IAT\n",
    "        self.mean_service = DEFAULT_MEAN_SERVICE\n",
    "        self.n_doctors = DEFAULT_N_DOCTORS\n",
    "        self.init_sampling()\n",
    "        \n",
    "    def init_sampling(self):\n",
    "        '''\n",
    "        Initialise the distributions used in the model\n",
    "        '''\n",
    "        self.arrival_dist = ciw.dists.Exponential(self.mean_iat)\n",
    "        self.treatment_dist = ciw.dists.Exponential(self.mean_service)\n",
    "        \n",
    "        "
   ]
  },
  {
   "cell_type": "markdown",
   "id": "harmful-intake",
   "metadata": {},
   "source": [
    "## CiW Model"
   ]
  },
  {
   "cell_type": "code",
   "execution_count": 7,
   "id": "attractive-temperature",
   "metadata": {},
   "outputs": [],
   "source": [
    "def get_model(args):\n",
    "    '''\n",
    "    Build a CiW model using the arguments provided.\n",
    "    \n",
    "    Params:\n",
    "    -----\n",
    "    args: Scenario\n",
    "        container class for scenario model arguments.\n",
    "        \n",
    "    Returns:\n",
    "    --------\n",
    "    ciw.network.Network\n",
    "    '''\n",
    "    model = ciw.create_network(arrival_distributions=[args.arrival_dist],\n",
    "                               service_distributions=[args.treatment_dist],\n",
    "                               number_of_servers=[args.n_doctors])\n",
    "    return model"
   ]
  },
  {
   "cell_type": "markdown",
   "id": "challenging-jersey",
   "metadata": {},
   "source": [
    "## Executing the model\n",
    "\n",
    "We include two functions. `single_run()` and `multiple_replications()`.  The latter is used to repeatedly call and process the results from `single_run`."
   ]
  },
  {
   "cell_type": "code",
   "execution_count": 8,
   "id": "protected-chrome",
   "metadata": {},
   "outputs": [],
   "source": [
    "def processed_run_results(sim_engine):\n",
    "    '''\n",
    "    Process the results from a single replication\n",
    "    \n",
    "    Params:\n",
    "    ------\n",
    "    engine: ciw simulation \n",
    "    \n",
    "    Returns:\n",
    "    ------\n",
    "    pandas.DataFrame\n",
    "    '''\n",
    "    # return records for each patient\n",
    "    records = sim_engine.get_all_records()\n",
    "    \n",
    "    service_time = get_metric_mean('service_time', records)\n",
    "    waits = get_metric_mean('waiting_time', records)\n",
    "    service_util = sim_engine.transitive_nodes[0].server_utilisation\n",
    "    \n",
    "    results = {'00_throughput': len(records),\n",
    "               '01_waiting_time': waits,\n",
    "               '02_doctor_time': service_time,\n",
    "               '03_doctor_util': service_util}\n",
    "    \n",
    "    df = pd.DataFrame({'1':results}).T\n",
    "    df.index.name = 'rep'\n",
    "    return df\n",
    "    \n",
    "def get_metric_mean(metric, records):\n",
    "    '''\n",
    "    Calculate the mean of a metric\n",
    "    \n",
    "    Takes account of warm-up period\n",
    "    \n",
    "    Params:\n",
    "    -----\n",
    "    metric: str\n",
    "        The performance metric of interest e.g. 'waiting_time'\n",
    "        \n",
    "    '''\n",
    "    return np.array([getattr(p, metric) for p in records\n",
    "                    if p.arrival_date > WARM_UP_PERIOD]).mean() \n",
    "    \n",
    "    "
   ]
  },
  {
   "cell_type": "code",
   "execution_count": 9,
   "id": "senior-kentucky",
   "metadata": {},
   "outputs": [],
   "source": [
    "def single_run(args, random_seed=None):\n",
    "    '''\n",
    "    Conduct a single run of the simulation model.\n",
    "    \n",
    "    Params:\n",
    "    ------\n",
    "    args: Scenario\n",
    "        Parameter container\n",
    "        \n",
    "    random_seed: int\n",
    "        Random seed to control simulation run.\n",
    "    '''\n",
    "    # random seed\n",
    "    ciw.seed(random_seed)\n",
    "\n",
    "    # parameterise model\n",
    "    model = get_model(args)\n",
    "\n",
    "    # simulation engine\n",
    "    sim_engine = ciw.Simulation(model)\n",
    "    \n",
    "    # run the model\n",
    "    sim_engine.simulate_until_max_time(DEFAULT_RC_PERIOD+WARM_UP_PERIOD)\n",
    "    \n",
    "    # return processed results for run.\n",
    "    return processed_run_results(sim_engine)"
   ]
  },
  {
   "cell_type": "code",
   "execution_count": 10,
   "id": "accurate-foundation",
   "metadata": {},
   "outputs": [],
   "source": [
    "def multiple_replications(scenario, n_reps=DEFAULT_N_REPS):\n",
    "    '''\n",
    "    Perform multiple replications of the model.\n",
    "    \n",
    "    Params:\n",
    "    ------\n",
    "    scenario: Scenario\n",
    "        Parameters/arguments to configure the model\n",
    "\n",
    "    n_reps: int, optional (default=DEFAULT_N_REPS)\n",
    "        Number of independent replications to run.\n",
    "        \n",
    "    Returns:\n",
    "    --------\n",
    "    pandas.DataFrame\n",
    "    '''\n",
    "\n",
    "    results = [single_run(scenario, random_seed=rep) for rep in range(n_reps)]\n",
    "    \n",
    "    # format and return results in a dataframe\n",
    "    df_results = pd.concat(results)\n",
    "    df_results.index = np.arange(1, len(df_results)+1)\n",
    "    df_results.index.name = 'rep'\n",
    "    return df_results"
   ]
  },
  {
   "cell_type": "markdown",
   "id": "exposed-newport",
   "metadata": {},
   "source": [
    "### Script to run a single replication."
   ]
  },
  {
   "cell_type": "code",
   "execution_count": 11,
   "id": "junior-composition",
   "metadata": {},
   "outputs": [
    {
     "data": {
      "text/html": [
       "<div>\n",
       "<style scoped>\n",
       "    .dataframe tbody tr th:only-of-type {\n",
       "        vertical-align: middle;\n",
       "    }\n",
       "\n",
       "    .dataframe tbody tr th {\n",
       "        vertical-align: top;\n",
       "    }\n",
       "\n",
       "    .dataframe thead th {\n",
       "        text-align: right;\n",
       "    }\n",
       "</style>\n",
       "<table border=\"1\" class=\"dataframe\">\n",
       "  <thead>\n",
       "    <tr style=\"text-align: right;\">\n",
       "      <th>rep</th>\n",
       "      <th>1</th>\n",
       "    </tr>\n",
       "  </thead>\n",
       "  <tbody>\n",
       "    <tr>\n",
       "      <th>00_throughput</th>\n",
       "      <td>45.000000</td>\n",
       "    </tr>\n",
       "    <tr>\n",
       "      <th>01_waiting_time</th>\n",
       "      <td>38.750818</td>\n",
       "    </tr>\n",
       "    <tr>\n",
       "      <th>02_doctor_time</th>\n",
       "      <td>3.282238</td>\n",
       "    </tr>\n",
       "    <tr>\n",
       "      <th>03_doctor_util</th>\n",
       "      <td>0.953031</td>\n",
       "    </tr>\n",
       "  </tbody>\n",
       "</table>\n",
       "</div>"
      ],
      "text/plain": [
       "rep                      1\n",
       "00_throughput    45.000000\n",
       "01_waiting_time  38.750818\n",
       "02_doctor_time    3.282238\n",
       "03_doctor_util    0.953031"
      ]
     },
     "execution_count": 11,
     "metadata": {},
     "output_type": "execute_result"
    }
   ],
   "source": [
    "# create scenario and parameterise model\n",
    "args = Scenario()\n",
    "single_run(args, random_seed=42).T"
   ]
  },
  {
   "cell_type": "markdown",
   "id": "pursuant-wellington",
   "metadata": {},
   "source": [
    "### Script to run multiple replications"
   ]
  },
  {
   "cell_type": "code",
   "execution_count": 12,
   "id": "stock-absence",
   "metadata": {},
   "outputs": [
    {
     "data": {
      "text/html": [
       "<div>\n",
       "<style scoped>\n",
       "    .dataframe tbody tr th:only-of-type {\n",
       "        vertical-align: middle;\n",
       "    }\n",
       "\n",
       "    .dataframe tbody tr th {\n",
       "        vertical-align: top;\n",
       "    }\n",
       "\n",
       "    .dataframe thead th {\n",
       "        text-align: right;\n",
       "    }\n",
       "</style>\n",
       "<table border=\"1\" class=\"dataframe\">\n",
       "  <thead>\n",
       "    <tr style=\"text-align: right;\">\n",
       "      <th></th>\n",
       "      <th>00_throughput</th>\n",
       "      <th>01_waiting_time</th>\n",
       "      <th>02_doctor_time</th>\n",
       "      <th>03_doctor_util</th>\n",
       "    </tr>\n",
       "    <tr>\n",
       "      <th>rep</th>\n",
       "      <th></th>\n",
       "      <th></th>\n",
       "      <th></th>\n",
       "      <th></th>\n",
       "    </tr>\n",
       "  </thead>\n",
       "  <tbody>\n",
       "    <tr>\n",
       "      <th>1</th>\n",
       "      <td>33.0</td>\n",
       "      <td>38.240624</td>\n",
       "      <td>4.098196</td>\n",
       "      <td>0.974158</td>\n",
       "    </tr>\n",
       "    <tr>\n",
       "      <th>2</th>\n",
       "      <td>49.0</td>\n",
       "      <td>21.601901</td>\n",
       "      <td>3.050446</td>\n",
       "      <td>0.997996</td>\n",
       "    </tr>\n",
       "    <tr>\n",
       "      <th>3</th>\n",
       "      <td>29.0</td>\n",
       "      <td>62.282375</td>\n",
       "      <td>4.231670</td>\n",
       "      <td>0.956606</td>\n",
       "    </tr>\n",
       "    <tr>\n",
       "      <th>4</th>\n",
       "      <td>42.0</td>\n",
       "      <td>21.179496</td>\n",
       "      <td>3.466823</td>\n",
       "      <td>0.964612</td>\n",
       "    </tr>\n",
       "    <tr>\n",
       "      <th>5</th>\n",
       "      <td>43.0</td>\n",
       "      <td>41.683234</td>\n",
       "      <td>3.167520</td>\n",
       "      <td>0.991548</td>\n",
       "    </tr>\n",
       "  </tbody>\n",
       "</table>\n",
       "</div>"
      ],
      "text/plain": [
       "     00_throughput  01_waiting_time  02_doctor_time  03_doctor_util\n",
       "rep                                                                \n",
       "1             33.0        38.240624        4.098196        0.974158\n",
       "2             49.0        21.601901        3.050446        0.997996\n",
       "3             29.0        62.282375        4.231670        0.956606\n",
       "4             42.0        21.179496        3.466823        0.964612\n",
       "5             43.0        41.683234        3.167520        0.991548"
      ]
     },
     "execution_count": 12,
     "metadata": {},
     "output_type": "execute_result"
    }
   ],
   "source": [
    "args = Scenario()\n",
    "results = multiple_replications(args)\n",
    "results.head()"
   ]
  },
  {
   "cell_type": "markdown",
   "id": "liberal-lloyd",
   "metadata": {},
   "source": [
    "### Visualise replications"
   ]
  },
  {
   "cell_type": "code",
   "execution_count": 13,
   "id": "legendary-lunch",
   "metadata": {},
   "outputs": [
    {
     "data": {
      "image/png": "[encoded data removed]",
      "text/plain": [
       "<Figure size 1200x400 with 2 Axes>"
      ]
     },
     "metadata": {},
     "output_type": "display_data"
    }
   ],
   "source": [
    "fig, ax = plt.subplots(2, 1, figsize=(12,4))\n",
    "ax[0].hist(results['01_waiting_time']);\n",
    "ax[0].set_ylabel('wait for doctor')\n",
    "ax[1].hist(results['03_doctor_util']);\n",
    "ax[1].set_ylabel('Doctor Utilisation');"
   ]
  },
  {
   "cell_type": "markdown",
   "id": "prescribed-visit",
   "metadata": {},
   "source": [
    "## Scenario Analysis\n",
    "\n",
    "The structured approach we took to organising our `ciw` model allows us to easily experiment with alternative scenarios.  "
   ]
  },
  {
   "cell_type": "code",
   "execution_count": 14,
   "id": "spiritual-andrews",
   "metadata": {},
   "outputs": [],
   "source": [
    "def get_scenarios():\n",
    "    '''\n",
    "    Creates a dictionary object containing\n",
    "    objects of type `Scenario` to run.\n",
    "    \n",
    "    Returns:\n",
    "    --------\n",
    "    dict\n",
    "        Contains the scenarios for the model\n",
    "    '''\n",
    "    scenarios = {}\n",
    "    scenarios['base'] = Scenario()\n",
    "    \n",
    "    # extra doctors\n",
    "    max_doctors = 5\n",
    "    for i in range(1, max_doctors+1):\n",
    "        scenarios[f'doctor+{i}'] = Scenario()\n",
    "        scenarios[f'doctor+{i}'].n_doctors += i\n",
    "        \n",
    "    return scenarios"
   ]
  },
  {
   "cell_type": "code",
   "execution_count": 15,
   "id": "beautiful-maximum",
   "metadata": {},
   "outputs": [],
   "source": [
    "def run_scenario_analysis(scenarios, n_reps=DEFAULT_N_REPS):\n",
    "    '''\n",
    "    Run each of the scenarios for a specified results\n",
    "    collection period and replications.\n",
    "    \n",
    "    Params:\n",
    "    ------\n",
    "    scenarios: dict\n",
    "        dictionary of Scenario objects\n",
    "        \n",
    "    n_rep: int, optional (default=DEFAULT_N_REPS)\n",
    "        Number of replications\n",
    "    \n",
    "    '''\n",
    "    print('Scenario Analysis')\n",
    "    print(f'No. Scenario: {len(scenarios)}')\n",
    "    print(f'Replications: {n_reps}')\n",
    "\n",
    "    scenario_results = {}\n",
    "    for sc_name, scenario in scenarios.items():\n",
    "        \n",
    "        print(f'Running {sc_name}', end=' => ')\n",
    "        replications = multiple_replications(scenario, n_reps=n_reps)\n",
    "        print('done.\\n')\n",
    "        \n",
    "        #save the results\n",
    "        scenario_results[sc_name] = replications\n",
    "    \n",
    "    print('Scenario analysis complete.')\n",
    "    return scenario_results"
   ]
  },
  {
   "cell_type": "markdown",
   "id": "standard-peeing",
   "metadata": {},
   "source": [
    "### Script to run scenario analysis"
   ]
  },
  {
   "cell_type": "code",
   "execution_count": 16,
   "id": "plastic-victor",
   "metadata": {},
   "outputs": [
    {
     "name": "stdout",
     "output_type": "stream",
     "text": [
      "Scenario Analysis\n",
      "No. Scenario: 6\n",
      "Replications: 50\n",
      "Running base => done.\n",
      "\n",
      "Running doctor+1 => done.\n",
      "\n",
      "Running doctor+2 => done.\n",
      "\n",
      "Running doctor+3 => done.\n",
      "\n",
      "Running doctor+4 => done.\n",
      "\n",
      "Running doctor+5 => done.\n",
      "\n",
      "Scenario analysis complete.\n"
     ]
    }
   ],
   "source": [
    "#get the scenarios\n",
    "scenarios = get_scenarios()\n",
    "\n",
    "#run the scenario analysis\n",
    "scenario_results = run_scenario_analysis(scenarios)"
   ]
  },
  {
   "cell_type": "code",
   "execution_count": 17,
   "id": "guided-scholar",
   "metadata": {},
   "outputs": [],
   "source": [
    "def scenario_summary_frame(scenario_results):\n",
    "    '''\n",
    "    Mean results for each performance measure by scenario\n",
    "    \n",
    "    Parameters:\n",
    "    ----------\n",
    "    scenario_results: dict\n",
    "        dictionary of replications.  \n",
    "        Key identifies the performance measure\n",
    "        \n",
    "    Returns:\n",
    "    -------\n",
    "    pd.DataFrame\n",
    "    '''\n",
    "    columns = []\n",
    "    summary = pd.DataFrame()\n",
    "    for sc_name, replications in scenario_results.items():\n",
    "        summary = pd.concat([summary, replications.mean()], axis=1)\n",
    "        columns.append(sc_name)\n",
    "\n",
    "    summary.columns = columns\n",
    "    return summary"
   ]
  },
  {
   "cell_type": "code",
   "execution_count": 18,
   "id": "cultural-detail",
   "metadata": {},
   "outputs": [
    {
     "data": {
      "text/html": [
       "<div>\n",
       "<style scoped>\n",
       "    .dataframe tbody tr th:only-of-type {\n",
       "        vertical-align: middle;\n",
       "    }\n",
       "\n",
       "    .dataframe tbody tr th {\n",
       "        vertical-align: top;\n",
       "    }\n",
       "\n",
       "    .dataframe thead th {\n",
       "        text-align: right;\n",
       "    }\n",
       "</style>\n",
       "<table border=\"1\" class=\"dataframe\">\n",
       "  <thead>\n",
       "    <tr style=\"text-align: right;\">\n",
       "      <th></th>\n",
       "      <th>base</th>\n",
       "      <th>doctor+1</th>\n",
       "      <th>doctor+2</th>\n",
       "      <th>doctor+3</th>\n",
       "      <th>doctor+4</th>\n",
       "      <th>doctor+5</th>\n",
       "    </tr>\n",
       "  </thead>\n",
       "  <tbody>\n",
       "    <tr>\n",
       "      <th>00_throughput</th>\n",
       "      <td>45.34</td>\n",
       "      <td>70.38</td>\n",
       "      <td>73.66</td>\n",
       "      <td>72.64</td>\n",
       "      <td>73.04</td>\n",
       "      <td>73.00</td>\n",
       "    </tr>\n",
       "    <tr>\n",
       "      <th>01_waiting_time</th>\n",
       "      <td>28.89</td>\n",
       "      <td>4.19</td>\n",
       "      <td>0.71</td>\n",
       "      <td>0.09</td>\n",
       "      <td>0.01</td>\n",
       "      <td>0.00</td>\n",
       "    </tr>\n",
       "    <tr>\n",
       "      <th>02_doctor_time</th>\n",
       "      <td>3.02</td>\n",
       "      <td>3.01</td>\n",
       "      <td>3.05</td>\n",
       "      <td>2.99</td>\n",
       "      <td>2.97</td>\n",
       "      <td>2.98</td>\n",
       "    </tr>\n",
       "    <tr>\n",
       "      <th>03_doctor_util</th>\n",
       "      <td>0.95</td>\n",
       "      <td>0.76</td>\n",
       "      <td>0.53</td>\n",
       "      <td>0.39</td>\n",
       "      <td>0.31</td>\n",
       "      <td>0.26</td>\n",
       "    </tr>\n",
       "  </tbody>\n",
       "</table>\n",
       "</div>"
      ],
      "text/plain": [
       "                  base  doctor+1  doctor+2  doctor+3  doctor+4  doctor+5\n",
       "00_throughput    45.34     70.38     73.66     72.64     73.04     73.00\n",
       "01_waiting_time  28.89      4.19      0.71      0.09      0.01      0.00\n",
       "02_doctor_time    3.02      3.01      3.05      2.99      2.97      2.98\n",
       "03_doctor_util    0.95      0.76      0.53      0.39      0.31      0.26"
      ]
     },
     "execution_count": 18,
     "metadata": {},
     "output_type": "execute_result"
    }
   ],
   "source": [
    "# as well as rounding you may want to rename the cols/rows to \n",
    "# more readable alternatives.\n",
    "summary_frame = scenario_summary_frame(scenario_results)\n",
    "summary_frame.round(2)"
   ]
  },
  {
   "cell_type": "code",
   "execution_count": 19,
   "id": "warming-pipeline",
   "metadata": {},
   "outputs": [
    {
     "data": {
      "image/png": "[encoded data removed]",
      "text/plain": [
       "<Figure size 1200x400 with 1 Axes>"
      ]
     },
     "metadata": {},
     "output_type": "display_data"
    }
   ],
   "source": [
    "ax = summary_frame.T.plot(y='01_waiting_time', x='03_doctor_util', \n",
    "                          figsize=(12,4), legend=False)\n",
    "ax.set_ylabel('waiting time (hours)')\n",
    "ax.set_xlabel('doctor utilisation');"
   ]
  },
  {
   "cell_type": "markdown",
   "id": "lonely-commons",
   "metadata": {},
   "source": [
    "## End"
   ]
  }
 ],
 "metadata": {
  "kernelspec": {
   "display_name": "Python 3 (ipykernel)",
   "language": "python",
   "name": "python3"
  },
  "language_info": {
   "codemirror_mode": {
    "name": "ipython",
    "version": 3
   },
   "file_extension": ".py",
   "mimetype": "text/x-python",
   "name": "python",
   "nbconvert_exporter": "python",
   "pygments_lexer": "ipython3",
   "version": "3.9.16"
  }
 },
 "nbformat": 4,
 "nbformat_minor": 5
}
