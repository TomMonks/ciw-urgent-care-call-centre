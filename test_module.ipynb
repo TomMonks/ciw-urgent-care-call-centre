{
 "cells": [
  {
   "cell_type": "markdown",
   "metadata": {},
   "source": [
    "# Tests the CiW model runs from module."
   ]
  },
  {
   "cell_type": "code",
   "execution_count": 2,
   "metadata": {},
   "outputs": [],
   "source": [
    "from ciw_model import Experiment, multiple_replications"
   ]
  },
  {
   "cell_type": "code",
   "execution_count": 3,
   "metadata": {},
   "outputs": [],
   "source": [
    "default_exp = Experiment()\n",
    "results = multiple_replications(default_exp)"
   ]
  },
  {
   "cell_type": "code",
   "execution_count": 5,
   "metadata": {},
   "outputs": [
    {
     "data": {
      "text/html": [
       "<div>\n",
       "<style scoped>\n",
       "    .dataframe tbody tr th:only-of-type {\n",
       "        vertical-align: middle;\n",
       "    }\n",
       "\n",
       "    .dataframe tbody tr th {\n",
       "        vertical-align: top;\n",
       "    }\n",
       "\n",
       "    .dataframe thead th {\n",
       "        text-align: right;\n",
       "    }\n",
       "</style>\n",
       "<table border=\"1\" class=\"dataframe\">\n",
       "  <thead>\n",
       "    <tr style=\"text-align: right;\">\n",
       "      <th></th>\n",
       "      <th>01_mean_waiting_time</th>\n",
       "      <th>02_operator_util</th>\n",
       "      <th>03_mean_nurse_waiting_time</th>\n",
       "      <th>04_nurse_util</th>\n",
       "    </tr>\n",
       "  </thead>\n",
       "  <tbody>\n",
       "    <tr>\n",
       "      <th>count</th>\n",
       "      <td>5.000000</td>\n",
       "      <td>5.000000</td>\n",
       "      <td>5.000000</td>\n",
       "      <td>5.000000</td>\n",
       "    </tr>\n",
       "    <tr>\n",
       "      <th>mean</th>\n",
       "      <td>2.383548</td>\n",
       "      <td>91.600498</td>\n",
       "      <td>39.355179</td>\n",
       "      <td>96.526883</td>\n",
       "    </tr>\n",
       "    <tr>\n",
       "      <th>std</th>\n",
       "      <td>0.567707</td>\n",
       "      <td>2.529452</td>\n",
       "      <td>35.512973</td>\n",
       "      <td>1.190061</td>\n",
       "    </tr>\n",
       "    <tr>\n",
       "      <th>min</th>\n",
       "      <td>1.397307</td>\n",
       "      <td>88.964630</td>\n",
       "      <td>7.771603</td>\n",
       "      <td>95.207018</td>\n",
       "    </tr>\n",
       "    <tr>\n",
       "      <th>25%</th>\n",
       "      <td>2.473874</td>\n",
       "      <td>89.225810</td>\n",
       "      <td>8.729488</td>\n",
       "      <td>95.387963</td>\n",
       "    </tr>\n",
       "    <tr>\n",
       "      <th>50%</th>\n",
       "      <td>2.586871</td>\n",
       "      <td>91.556953</td>\n",
       "      <td>25.889145</td>\n",
       "      <td>96.764325</td>\n",
       "    </tr>\n",
       "    <tr>\n",
       "      <th>75%</th>\n",
       "      <td>2.613324</td>\n",
       "      <td>93.787188</td>\n",
       "      <td>71.513029</td>\n",
       "      <td>97.411459</td>\n",
       "    </tr>\n",
       "    <tr>\n",
       "      <th>max</th>\n",
       "      <td>2.846362</td>\n",
       "      <td>94.467910</td>\n",
       "      <td>82.872630</td>\n",
       "      <td>97.863649</td>\n",
       "    </tr>\n",
       "  </tbody>\n",
       "</table>\n",
       "</div>"
      ],
      "text/plain": [
       "       01_mean_waiting_time  02_operator_util  03_mean_nurse_waiting_time  \\\n",
       "count              5.000000          5.000000                    5.000000   \n",
       "mean               2.383548         91.600498                   39.355179   \n",
       "std                0.567707          2.529452                   35.512973   \n",
       "min                1.397307         88.964630                    7.771603   \n",
       "25%                2.473874         89.225810                    8.729488   \n",
       "50%                2.586871         91.556953                   25.889145   \n",
       "75%                2.613324         93.787188                   71.513029   \n",
       "max                2.846362         94.467910                   82.872630   \n",
       "\n",
       "       04_nurse_util  \n",
       "count       5.000000  \n",
       "mean       96.526883  \n",
       "std         1.190061  \n",
       "min        95.207018  \n",
       "25%        95.387963  \n",
       "50%        96.764325  \n",
       "75%        97.411459  \n",
       "max        97.863649  "
      ]
     },
     "execution_count": 5,
     "metadata": {},
     "output_type": "execute_result"
    }
   ],
   "source": [
    "results.describe()"
   ]
  },
  {
   "cell_type": "code",
   "execution_count": null,
   "metadata": {},
   "outputs": [],
   "source": []
  }
 ],
 "metadata": {
  "kernelspec": {
   "display_name": "sim",
   "language": "python",
   "name": "python3"
  },
  "language_info": {
   "codemirror_mode": {
    "name": "ipython",
    "version": 3
   },
   "file_extension": ".py",
   "mimetype": "text/x-python",
   "name": "python",
   "nbconvert_exporter": "python",
   "pygments_lexer": "ipython3",
   "version": "3.9.16"
  },
  "orig_nbformat": 4
 },
 "nbformat": 4,
 "nbformat_minor": 2
}
